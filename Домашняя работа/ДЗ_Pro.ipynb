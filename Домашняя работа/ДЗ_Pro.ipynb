{
  "nbformat": 4,
  "nbformat_minor": 0,
  "metadata": {
    "colab": {
      "provenance": []
    },
    "kernelspec": {
      "name": "python3",
      "display_name": "Python 3"
    },
    "language_info": {
      "name": "python"
    },
    "accelerator": "GPU"
  },
  "cells": [
    {
      "cell_type": "markdown",
      "metadata": {
        "id": "d_qXycKuUA51"
      },
      "source": [
        "### Задание"
      ]
    },
    {
      "cell_type": "markdown",
      "metadata": {
        "id": "aUMmCXubUHEb"
      },
      "source": [
        "Самостоятельно напишите нейронную сеть, которая может стать составной частью системы бота для игры в \"Крестики-нолики\". Используя подготовленную базу изображений, создайте и обучите нейронную сеть, распознающую две категории изображений: крестики и нолики. Добейтесь точности распознавания более 95% (accuracy)\n"
      ]
    },
    {
      "cell_type": "markdown",
      "source": [
        "# Импорт необходимых библиотек и модулей\n",
        "В этом блоке происходит импорт всех нужных компонентов для создания и обучения нейронной сети, распознающей изображения крестиков и ноликов.\n",
        "Импорт включает:\n",
        "- Sequential — создание последовательной нейронной сети (один слой за другим).\n",
        "\n",
        "- Dense, Dropout — полносвязные слои и слой регуляризации Dropout.\n",
        "\n",
        "- Adam — оптимизатор, устойчивый к шуму и хорошо подходящий для большинства задач.\n",
        "\n",
        "- utils — для функции to_categorical, преобразующей метки в one-hot формат.\n",
        "\n",
        "- image — для загрузки и предварительной обработки изображений.\n",
        "\n",
        "- numpy — массивы и математика.\n",
        "\n",
        "- os — для работы с файловой системой.\n",
        "\n",
        "- matplotlib.pyplot — визуализация изображений и графиков.\n",
        "\n",
        "- PIL.Image — дополнительная обработка изображений (если нужно работать напрямую с пикселями).\n",
        "\n",
        "- warnings — подавление несущественных предупреждений.\n",
        "\n",
        "- %matplotlib inline — директива Jupyter для отображения изображений прямо в ноутбуке."
      ],
      "metadata": {
        "id": "dC73bU049IQA"
      }
    },
    {
      "cell_type": "code",
      "metadata": {
        "id": "LvOL2h3EdC9y"
      },
      "source": [
        "# Стандартная библиотека\n",
        "import os\n",
        "import warnings\n",
        "import zipfile  # работа с zip-архивами\n",
        "\n",
        "# Сторонние библиотеки\n",
        "import gdown  # загрузка файлов по HTML ссылке\n",
        "import matplotlib.pyplot as plt\n",
        "import numpy as np\n",
        "from PIL import Image\n",
        "\n",
        "# TensorFlow / Keras\n",
        "from tensorflow.keras import utils\n",
        "from tensorflow.keras.layers import Dense, Dropout\n",
        "from tensorflow.keras.models import Sequential\n",
        "from tensorflow.keras.optimizers import Adam\n",
        "from tensorflow.keras.preprocessing import image\n",
        "\n",
        "# Подавление предупреждений\n",
        "warnings.filterwarnings('ignore')\n",
        "\n",
        "# Вывод изображений в Jupyter-ноутбуке\n",
        "%matplotlib inline"
      ],
      "execution_count": 1,
      "outputs": []
    },
    {
      "cell_type": "markdown",
      "source": [
        "#  Загрузка и распаковка датасета\n",
        "Этот блок отвечает за автоматическую загрузку архива с изображениями, содержащими крестики и нолики, а также его распаковку:\n",
        "\n",
        "gdown.download(...) — загружает архив hw_pro.zip, содержащий изображения двух классов.\n"
      ],
      "metadata": {
        "id": "U3IqQfcf9Qql"
      }
    },
    {
      "cell_type": "code",
      "metadata": {
        "colab": {
          "base_uri": "https://localhost:8080/",
          "height": 35
        },
        "id": "lJSH41rM12IE",
        "outputId": "8cc4f845-5074-43cf-9ffb-97d0dadfff39"
      },
      "source": [
        "# Загрузка датасета из облака\n",
        "gdown.download('https://storage.yandexcloud.net/aiueducation/Content/base/l3/hw_pro.zip', None, quiet=True)"
      ],
      "execution_count": 2,
      "outputs": [
        {
          "output_type": "execute_result",
          "data": {
            "text/plain": [
              "'hw_pro.zip'"
            ],
            "application/vnd.google.colaboratory.intrinsic+json": {
              "type": "string"
            }
          },
          "metadata": {},
          "execution_count": 2
        }
      ]
    },
    {
      "cell_type": "markdown",
      "source": [
        "**Распаковка архива**\n",
        "\n",
        "Код открывает ZIP-файл hw_pro.zip для чтения и извлекает все его содержимое в папку hw_pro.\n",
        "Если папка hw_pro не существует, она будет создана автоматически.\n",
        "\n"
      ],
      "metadata": {
        "id": "_ip42PuHyk5r"
      }
    },
    {
      "cell_type": "code",
      "metadata": {
        "id": "5HAhCsCJ1_hJ"
      },
      "source": [
        "with zipfile.ZipFile('hw_pro.zip', 'r') as zip_ref:\n",
        "    zip_ref.extractall('hw_pro')"
      ],
      "execution_count": 3,
      "outputs": []
    },
    {
      "cell_type": "markdown",
      "source": [
        "# Загрузка и разметка изображений из датасета \"крестики-нолики\"\n",
        "В этом блоке происходит загрузка изображений из папок с двумя классами и формирование обучающего набора:\n",
        "\n",
        "- base_dir = '/content/hw_pro' — путь к директории с распакованным датасетом.\n",
        "\n",
        "- x_train — список для хранения изображений.\n",
        "\n",
        "- y_train — список для хранения меток классов (0 или 1).\n",
        "\n",
        "- img_height и img_width — размеры изображений, к которым приводятся все картинки (20×20 пикселей).\n",
        "\n",
        "Логика обхода:\n",
        "Проход по папкам в директории базы данных, каждая папка — отдельный класс:\n",
        "\n",
        "- Папка '0' — метка 0 (например, крестики),\n",
        "\n",
        "- Все остальные — метка 1 (например, нолики).\n",
        "\n",
        "Для каждого изображения:\n",
        "\n",
        "- Загружается с приведением к размеру 20×20 и в оттенках серого.\n",
        "\n",
        "- Преобразуется в числовой массив.\n",
        "\n",
        "- Добавляется в список x_train.\n",
        "\n",
        "Метка класса добавляется в y_train.\n",
        "\n",
        "\n",
        "Далее списки преобразуются в NumPy-массивы для удобства обработки в дальнейшем. Выводятся размеры массивов."
      ],
      "metadata": {
        "id": "Fxdc3lAa9bTZ"
      }
    },
    {
      "cell_type": "code",
      "metadata": {
        "colab": {
          "base_uri": "https://localhost:8080/"
        },
        "id": "HhHbCet01zmG",
        "outputId": "80db09f5-91c6-4cbe-c7ca-1035a57f182f"
      },
      "source": [
        "# Путь к директории с базой\n",
        "base_dir = '/content/hw_pro'\n",
        "# Создание пустого списка для загрузки изображений обучающей выборки\n",
        "x_train = []\n",
        "# Создание списка для меток классов\n",
        "y_train = []\n",
        "# Задание высоты и ширины загружаемых изображений\n",
        "img_height = 20\n",
        "img_width = 20\n",
        "# Перебор папок в директории базы\n",
        "for patch in os.listdir(base_dir):\n",
        "    # Перебор файлов в папках\n",
        "    for img in os.listdir(base_dir + '/' + patch):\n",
        "        # Добавление в список изображений текущей картинки\n",
        "        x_train.append(image.img_to_array(image.load_img(base_dir + '/' + patch + '/' + img,\n",
        "                                                         target_size=(img_height, img_width),\n",
        "                                                         color_mode='grayscale')))\n",
        "        # Добавление в массив меток, соответствующих классам\n",
        "        if patch == '0':\n",
        "            y_train.append(0)\n",
        "        else:\n",
        "            y_train.append(1)\n",
        "# Преобразование в numpy-массив загруженных изображений и меток классов\n",
        "x_train = np.array(x_train)\n",
        "y_train = np.array(y_train)\n",
        "# Вывод размерностей\n",
        "print('Размер массива x_train', x_train.shape)\n",
        "print('Размер массива y_train', y_train.shape)"
      ],
      "execution_count": null,
      "outputs": [
        {
          "output_type": "stream",
          "name": "stdout",
          "text": [
            "Размер массива x_train (102, 20, 20, 1)\n",
            "Размер массива y_train (102,)\n"
          ]
        }
      ]
    },
    {
      "cell_type": "markdown",
      "source": [
        "# Преобразование формы входных данных\n",
        "В этом блоке происходит изменение формы массива изображений для подачи в полносвязный слой нейронной сети:\n",
        "\n",
        "- Исходные изображения имеют форму (число_образцов, 20, 20, 1).\n",
        "\n",
        "- Метод reshape преобразует каждое изображение в вектор длиной 400 (20×20), сохраняя размер батча (x_train.shape[0]).\n",
        "\n",
        "- Итоговая форма данных будет (число_образцов, 400) — это требуется для подачи в полносвязный слой, который принимает одномерный вход.\n",
        "\n",
        "- Для проверки выводится новая форма массива x_train."
      ],
      "metadata": {
        "id": "X3Kybk2a-H_n"
      }
    },
    {
      "cell_type": "code",
      "source": [
        "# Изменение формы входных картинок с 20х20 на 400\n",
        "# первая ось остается без изменения, остальные складываются в вектор\n",
        "x_train = x_train.reshape(x_train.shape[0], -1)\n",
        "\n",
        "# Проверка результата\n",
        "print(f'Форма обучающих данных: {x_train.shape}')"
      ],
      "metadata": {
        "colab": {
          "base_uri": "https://localhost:8080/"
        },
        "id": "LXNMoivhXf1g",
        "outputId": "f8b5ce18-2ec6-4a16-82bb-43f3db8688d6"
      },
      "execution_count": null,
      "outputs": [
        {
          "output_type": "stream",
          "name": "stdout",
          "text": [
            "Форма обучающих данных: (102, 400)\n"
          ]
        }
      ]
    },
    {
      "cell_type": "markdown",
      "source": [
        "## Нормализация изображений\n",
        "- Преобразуем тип данных массива изображений в float32.\n",
        "\n",
        "- Нормализуем значения пикселей, разделив их на 255, чтобы привести их к диапазону [0, 1]."
      ],
      "metadata": {
        "id": "bMTQcjYT-ZBf"
      }
    },
    {
      "cell_type": "code",
      "source": [
        "x_train = x_train.astype('float32') / 255."
      ],
      "metadata": {
        "id": "_gg8iRBHdOEO"
      },
      "execution_count": null,
      "outputs": []
    },
    {
      "cell_type": "markdown",
      "source": [
        "В этом блоке метки классов (0 и 1) преобразуются в формат one-hot векторов, чтобы подходить под многоклассовую задачу классификации:\n",
        "\n",
        "- Используется функция to_categorical из tensorflow.keras.utils.\n",
        "\n",
        "- Количество классов — 2 (крестики и нолики).\n",
        "\n",
        "- Пример: метка 0 преобразуется в [1, 0], а 1 — в [0, 1]."
      ],
      "metadata": {
        "id": "8jeRip9P-ry-"
      }
    },
    {
      "cell_type": "code",
      "source": [
        "# Преобразование ответов в формат one_hot_encoding\n",
        "y_train = utils.to_categorical(y_train, 2)"
      ],
      "metadata": {
        "id": "ePU4_1uIdohe"
      },
      "execution_count": null,
      "outputs": []
    },
    {
      "cell_type": "markdown",
      "source": [
        "# Создание архитектуры нейронной сети\n",
        "В этом блоке формируется последовательная модель нейронной сети для классификации изображений крестиков и ноликов:\n",
        "\n",
        "Первый слой:\n",
        "\n",
        "- Dense(100, input_dim=400, activation='relu')\n",
        "\n",
        "- Полносвязный слой с 100 нейронами,\n",
        "\n",
        "- Принимает вход размерности 400 (развернутое изображение 20×20),\n",
        "\n",
        "- Использует функцию активации ReLU для нелинейности.\n",
        "\n",
        "Второй слой:\n",
        "\n",
        "- Dense(50, activation='relu')\n",
        "\n",
        "- Полносвязный слой с 50 нейронами и ReLU-активацией.\n",
        "\n",
        "Выходной слой:\n",
        "\n",
        "- Dense(2, activation='softmax')\n",
        "\n",
        "- Выход из 2 нейронов — по количеству классов (крестики и нолики),\n",
        "\n",
        "- Softmax преобразует выходы в вероятности принадлежности к каждому классу.\n",
        "\n"
      ],
      "metadata": {
        "id": "YyTDR-DV-09b"
      }
    },
    {
      "cell_type": "code",
      "source": [
        "# Создание последовательной модели\n",
        "model = Sequential()\n",
        "\n",
        "model.add(Dense(100, input_dim=400, activation='relu'))\n",
        "model.add(Dense(50, activation='relu'))\n",
        "model.add(Dense(2, activation='softmax'))\n"
      ],
      "metadata": {
        "id": "VHVjK2PNeg4z"
      },
      "execution_count": null,
      "outputs": []
    },
    {
      "cell_type": "markdown",
      "source": [
        "Компиляция и просмотр структуры модели.\n",
        "model.compile(...) — конфигурация модели:\n",
        "\n",
        "- loss='categorical_crossentropy' — функция потерь для многоклассовой классификации (подходит для one-hot меток),\n",
        "\n",
        "- optimizer='adam' — оптимизатор Adam, один из самых эффективных для большинства задач,\n",
        "\n",
        "- metrics=['accuracy'] — метрика, по которой будет оцениваться качество работы модели (точность).\n",
        "\n",
        "model.summary() — выводит краткое описание модели."
      ],
      "metadata": {
        "id": "NEeekp4G_E1X"
      }
    },
    {
      "cell_type": "code",
      "source": [
        "# Компиляция модели\n",
        "model.compile(loss='categorical_crossentropy', optimizer='adam', metrics=['accuracy'])\n",
        "\n",
        "# Вывод структуры модели\n",
        "print(model.summary())"
      ],
      "metadata": {
        "colab": {
          "base_uri": "https://localhost:8080/",
          "height": 242
        },
        "id": "--JGjLyMfBvw",
        "outputId": "0c23241b-a856-4f94-e884-c50f4ffb3b5e"
      },
      "execution_count": null,
      "outputs": [
        {
          "output_type": "display_data",
          "data": {
            "text/plain": [
              "\u001b[1mModel: \"sequential_5\"\u001b[0m\n"
            ],
            "text/html": [
              "<pre style=\"white-space:pre;overflow-x:auto;line-height:normal;font-family:Menlo,'DejaVu Sans Mono',consolas,'Courier New',monospace\"><span style=\"font-weight: bold\">Model: \"sequential_5\"</span>\n",
              "</pre>\n"
            ]
          },
          "metadata": {}
        },
        {
          "output_type": "display_data",
          "data": {
            "text/plain": [
              "┏━━━━━━━━━━━━━━━━━━━━━━━━━━━━━━━━━┳━━━━━━━━━━━━━━━━━━━━━━━━┳━━━━━━━━━━━━━━━┓\n",
              "┃\u001b[1m \u001b[0m\u001b[1mLayer (type)                   \u001b[0m\u001b[1m \u001b[0m┃\u001b[1m \u001b[0m\u001b[1mOutput Shape          \u001b[0m\u001b[1m \u001b[0m┃\u001b[1m \u001b[0m\u001b[1m      Param #\u001b[0m\u001b[1m \u001b[0m┃\n",
              "┡━━━━━━━━━━━━━━━━━━━━━━━━━━━━━━━━━╇━━━━━━━━━━━━━━━━━━━━━━━━╇━━━━━━━━━━━━━━━┩\n",
              "│ dense_18 (\u001b[38;5;33mDense\u001b[0m)                │ (\u001b[38;5;45mNone\u001b[0m, \u001b[38;5;34m100\u001b[0m)            │        \u001b[38;5;34m40,100\u001b[0m │\n",
              "├─────────────────────────────────┼────────────────────────┼───────────────┤\n",
              "│ dense_19 (\u001b[38;5;33mDense\u001b[0m)                │ (\u001b[38;5;45mNone\u001b[0m, \u001b[38;5;34m50\u001b[0m)             │         \u001b[38;5;34m5,050\u001b[0m │\n",
              "├─────────────────────────────────┼────────────────────────┼───────────────┤\n",
              "│ dense_20 (\u001b[38;5;33mDense\u001b[0m)                │ (\u001b[38;5;45mNone\u001b[0m, \u001b[38;5;34m2\u001b[0m)              │           \u001b[38;5;34m102\u001b[0m │\n",
              "└─────────────────────────────────┴────────────────────────┴───────────────┘\n"
            ],
            "text/html": [
              "<pre style=\"white-space:pre;overflow-x:auto;line-height:normal;font-family:Menlo,'DejaVu Sans Mono',consolas,'Courier New',monospace\">┏━━━━━━━━━━━━━━━━━━━━━━━━━━━━━━━━━┳━━━━━━━━━━━━━━━━━━━━━━━━┳━━━━━━━━━━━━━━━┓\n",
              "┃<span style=\"font-weight: bold\"> Layer (type)                    </span>┃<span style=\"font-weight: bold\"> Output Shape           </span>┃<span style=\"font-weight: bold\">       Param # </span>┃\n",
              "┡━━━━━━━━━━━━━━━━━━━━━━━━━━━━━━━━━╇━━━━━━━━━━━━━━━━━━━━━━━━╇━━━━━━━━━━━━━━━┩\n",
              "│ dense_18 (<span style=\"color: #0087ff; text-decoration-color: #0087ff\">Dense</span>)                │ (<span style=\"color: #00d7ff; text-decoration-color: #00d7ff\">None</span>, <span style=\"color: #00af00; text-decoration-color: #00af00\">100</span>)            │        <span style=\"color: #00af00; text-decoration-color: #00af00\">40,100</span> │\n",
              "├─────────────────────────────────┼────────────────────────┼───────────────┤\n",
              "│ dense_19 (<span style=\"color: #0087ff; text-decoration-color: #0087ff\">Dense</span>)                │ (<span style=\"color: #00d7ff; text-decoration-color: #00d7ff\">None</span>, <span style=\"color: #00af00; text-decoration-color: #00af00\">50</span>)             │         <span style=\"color: #00af00; text-decoration-color: #00af00\">5,050</span> │\n",
              "├─────────────────────────────────┼────────────────────────┼───────────────┤\n",
              "│ dense_20 (<span style=\"color: #0087ff; text-decoration-color: #0087ff\">Dense</span>)                │ (<span style=\"color: #00d7ff; text-decoration-color: #00d7ff\">None</span>, <span style=\"color: #00af00; text-decoration-color: #00af00\">2</span>)              │           <span style=\"color: #00af00; text-decoration-color: #00af00\">102</span> │\n",
              "└─────────────────────────────────┴────────────────────────┴───────────────┘\n",
              "</pre>\n"
            ]
          },
          "metadata": {}
        },
        {
          "output_type": "display_data",
          "data": {
            "text/plain": [
              "\u001b[1m Total params: \u001b[0m\u001b[38;5;34m45,252\u001b[0m (176.77 KB)\n"
            ],
            "text/html": [
              "<pre style=\"white-space:pre;overflow-x:auto;line-height:normal;font-family:Menlo,'DejaVu Sans Mono',consolas,'Courier New',monospace\"><span style=\"font-weight: bold\"> Total params: </span><span style=\"color: #00af00; text-decoration-color: #00af00\">45,252</span> (176.77 KB)\n",
              "</pre>\n"
            ]
          },
          "metadata": {}
        },
        {
          "output_type": "display_data",
          "data": {
            "text/plain": [
              "\u001b[1m Trainable params: \u001b[0m\u001b[38;5;34m45,252\u001b[0m (176.77 KB)\n"
            ],
            "text/html": [
              "<pre style=\"white-space:pre;overflow-x:auto;line-height:normal;font-family:Menlo,'DejaVu Sans Mono',consolas,'Courier New',monospace\"><span style=\"font-weight: bold\"> Trainable params: </span><span style=\"color: #00af00; text-decoration-color: #00af00\">45,252</span> (176.77 KB)\n",
              "</pre>\n"
            ]
          },
          "metadata": {}
        },
        {
          "output_type": "display_data",
          "data": {
            "text/plain": [
              "\u001b[1m Non-trainable params: \u001b[0m\u001b[38;5;34m0\u001b[0m (0.00 B)\n"
            ],
            "text/html": [
              "<pre style=\"white-space:pre;overflow-x:auto;line-height:normal;font-family:Menlo,'DejaVu Sans Mono',consolas,'Courier New',monospace\"><span style=\"font-weight: bold\"> Non-trainable params: </span><span style=\"color: #00af00; text-decoration-color: #00af00\">0</span> (0.00 B)\n",
              "</pre>\n"
            ]
          },
          "metadata": {}
        },
        {
          "output_type": "stream",
          "name": "stdout",
          "text": [
            "None\n"
          ]
        }
      ]
    },
    {
      "cell_type": "markdown",
      "source": [
        "# Обучение нейронной сети\n",
        "Этот блок запускает процесс обучения модели с использованием подготовленных входных и выходных данных:\n",
        "\n",
        "- model.fit(...) — основная функция обучения модели.\n",
        "\n",
        "- x_train, y_train — обучающая выборка (входы и метки).\n",
        "\n",
        "- batch_size=10 — количество примеров, обрабатываемых перед одним обновлением весов (чем меньше, тем медленнее обучение, но может быть устойчивее).\n",
        "\n",
        "- epochs=10 — количество полных проходов по всему датасету.\n",
        "\n",
        "- verbose=1 — вывод процесса обучения (значения loss и accuracy по эпохам)."
      ],
      "metadata": {
        "id": "my0sldEL_ZgF"
      }
    },
    {
      "cell_type": "code",
      "source": [
        "# Обучение модели с сохранением истории\n",
        "history = model.fit(x_train,\n",
        "                    y_train,\n",
        "                    batch_size=10,\n",
        "                    epochs=10,\n",
        "                    verbose=1)"
      ],
      "metadata": {
        "colab": {
          "base_uri": "https://localhost:8080/"
        },
        "id": "oC1pJNlwfD30",
        "outputId": "af7a06ce-a11f-4a86-da36-cfe0693ea379"
      },
      "execution_count": null,
      "outputs": [
        {
          "output_type": "stream",
          "name": "stdout",
          "text": [
            "Epoch 1/10\n",
            "\u001b[1m11/11\u001b[0m \u001b[32m━━━━━━━━━━━━━━━━━━━━\u001b[0m\u001b[37m\u001b[0m \u001b[1m0s\u001b[0m 4ms/step - accuracy: 1.0000 - loss: 0.0717 \n",
            "Epoch 2/10\n",
            "\u001b[1m11/11\u001b[0m \u001b[32m━━━━━━━━━━━━━━━━━━━━\u001b[0m\u001b[37m\u001b[0m \u001b[1m0s\u001b[0m 6ms/step - accuracy: 1.0000 - loss: 0.0645  \n",
            "Epoch 3/10\n",
            "\u001b[1m11/11\u001b[0m \u001b[32m━━━━━━━━━━━━━━━━━━━━\u001b[0m\u001b[37m\u001b[0m \u001b[1m0s\u001b[0m 6ms/step - accuracy: 1.0000 - loss: 0.0411 \n",
            "Epoch 4/10\n",
            "\u001b[1m11/11\u001b[0m \u001b[32m━━━━━━━━━━━━━━━━━━━━\u001b[0m\u001b[37m\u001b[0m \u001b[1m0s\u001b[0m 9ms/step - accuracy: 1.0000 - loss: 0.0400 \n",
            "Epoch 5/10\n",
            "\u001b[1m11/11\u001b[0m \u001b[32m━━━━━━━━━━━━━━━━━━━━\u001b[0m\u001b[37m\u001b[0m \u001b[1m0s\u001b[0m 11ms/step - accuracy: 1.0000 - loss: 0.0307\n",
            "Epoch 6/10\n",
            "\u001b[1m11/11\u001b[0m \u001b[32m━━━━━━━━━━━━━━━━━━━━\u001b[0m\u001b[37m\u001b[0m \u001b[1m0s\u001b[0m 16ms/step - accuracy: 1.0000 - loss: 0.0209\n",
            "Epoch 7/10\n",
            "\u001b[1m11/11\u001b[0m \u001b[32m━━━━━━━━━━━━━━━━━━━━\u001b[0m\u001b[37m\u001b[0m \u001b[1m0s\u001b[0m 5ms/step - accuracy: 1.0000 - loss: 0.0193  \n",
            "Epoch 8/10\n",
            "\u001b[1m11/11\u001b[0m \u001b[32m━━━━━━━━━━━━━━━━━━━━\u001b[0m\u001b[37m\u001b[0m \u001b[1m0s\u001b[0m 6ms/step - accuracy: 1.0000 - loss: 0.0199 \n",
            "Epoch 9/10\n",
            "\u001b[1m11/11\u001b[0m \u001b[32m━━━━━━━━━━━━━━━━━━━━\u001b[0m\u001b[37m\u001b[0m \u001b[1m0s\u001b[0m 5ms/step - accuracy: 1.0000 - loss: 0.0151 \n",
            "Epoch 10/10\n",
            "\u001b[1m11/11\u001b[0m \u001b[32m━━━━━━━━━━━━━━━━━━━━\u001b[0m\u001b[37m\u001b[0m \u001b[1m0s\u001b[0m 6ms/step - accuracy: 1.0000 - loss: 0.0135 \n"
          ]
        }
      ]
    },
    {
      "cell_type": "code",
      "source": [
        "# Вывод точности на последней эпохе\n",
        "print(f\"Финальная точность: {history.history['accuracy'][-1]}\")"
      ],
      "metadata": {
        "id": "6THdBCBM79JB",
        "outputId": "40f6fb84-2aa4-4a0f-855a-9940bb9d8cfd",
        "colab": {
          "base_uri": "https://localhost:8080/"
        }
      },
      "execution_count": null,
      "outputs": [
        {
          "output_type": "stream",
          "name": "stdout",
          "text": [
            "Финальная точность: 1.0\n"
          ]
        }
      ]
    },
    {
      "cell_type": "markdown",
      "source": [
        "# Вывод по работе\n",
        "В ходе выполнения задания была успешно создана и обучена нейронная сеть для распознавания изображений крестиков и ноликов. Использовалась база изображений с двумя категориями, которая была предварительно подготовлена и нормализована. Модель состояла из двух скрытых слоёв с активацией ReLU и выходного слоя с функцией softmax. После обучения на протяжении 10 эпох с небольшим размером батча сеть достигла точности 100% на обучающей выборке, что существенно превышает требуемый порог в 95%. Это свидетельствует о том, что модель эффективно научилась различать изображения двух классов и полностью справляется с поставленной задачей."
      ],
      "metadata": {
        "id": "4_FlwtjbAQxK"
      }
    }
  ]
}